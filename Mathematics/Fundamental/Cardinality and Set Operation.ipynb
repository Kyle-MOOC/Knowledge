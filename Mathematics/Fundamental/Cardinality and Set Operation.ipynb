{
 "cells": [
  {
   "cell_type": "markdown",
   "id": "e04fc6f9-7de6-4f48-a1f5-0753b6d67664",
   "metadata": {},
   "source": [
    "# Cardinality"
   ]
  },
  {
   "cell_type": "markdown",
   "id": "a0010c0b-bb51-4c67-ad14-26979f6eb5d7",
   "metadata": {},
   "source": [
    "The cardinality size of a set is the number of elements in it. Cardinality is sometimes called cardinal number.\n",
    "\n",
    "The cardinality is denoted by a pair of vertical line.  \n",
    "**Example**  \n",
    "$A = \\{1,2,3\\}$  \n",
    "$\\lvert A \\rvert = 3$\n",
    "\n",
    "A set can be finite or infinite. A set is finite if $\\lvert A \\rvert = n$ for some non-negative integer $n$."
   ]
  },
  {
   "cell_type": "markdown",
   "id": "565a77d9-e2aa-4ddc-8e27-d1f7dd23738f",
   "metadata": {
    "tags": []
   },
   "source": [
    "# Universal Set"
   ]
  },
  {
   "cell_type": "markdown",
   "id": "ebdde9f8-03b6-432c-b46a-b59ee4f5aec6",
   "metadata": {},
   "source": [
    "A set which contains all objects (in consideration) and denoted by $U$.\n",
    "\n",
    "**Note**: The notion of ultimate universal set gave rise to popular Russell Paradox."
   ]
  },
  {
   "cell_type": "markdown",
   "id": "58147530-88f5-4fac-81a0-478e331543bd",
   "metadata": {
    "tags": []
   },
   "source": [
    "# Empty Set"
   ]
  },
  {
   "cell_type": "markdown",
   "id": "0dbfe859-00ec-4ecf-adac-ac0ad72b659d",
   "metadata": {},
   "source": [
    "**Definition** The empty set $\\emptyset$ is the set which contains no elements $$\\emptyset = \\{ \\} = \\{x \\mid x \\ne x\\}$$\n",
    "\n",
    "It is sometimes called null or void set. The empty set is also a subset of every set. The cardinality of empty set $\\lvert \\emptyset \\rvert = 0$.\n"
   ]
  },
  {
   "cell_type": "markdown",
   "id": "a19139d9-4eb2-4e8c-9c7b-90f1d026ef18",
   "metadata": {
    "tags": []
   },
   "source": [
    "# Set Operation"
   ]
  },
  {
   "cell_type": "markdown",
   "id": "08cc1f54-43d1-43b0-a5df-b2d18f349f6e",
   "metadata": {},
   "source": [
    "## Subset"
   ]
  },
  {
   "cell_type": "markdown",
   "id": "b132c172-61ea-42e9-be65-4a334ba5ba8f",
   "metadata": {},
   "source": [
    "Given sets A and B, set A is a subset of set B $$A \\subseteq B$$ if every element in A is also an element of B."
   ]
  },
  {
   "cell_type": "markdown",
   "id": "00906459-4589-45a4-9339-d4ff34debee6",
   "metadata": {},
   "source": [
    "### Proper Subset and Superset"
   ]
  },
  {
   "cell_type": "markdown",
   "id": "11c5b37b-732f-41d2-b1f1-a41bbec52136",
   "metadata": {},
   "source": [
    "Given sets A and B, $$ A \\subseteq B \\text{ and } A \\neq B$$\n",
    "$$ A \\subset B \\text{ or } A \\subsetneq B $$\n",
    "\n",
    "$$ A \\subset B \\Longleftrightarrow B \\supset A$$\n",
    "$$ A \\subseteq B \\Longleftrightarrow B \\supseteq A$$\n",
    "\n",
    "**Example**\n",
    "$$\n",
    "\\begin{align*}\n",
    "    A &= \\{1,2,3\\} \\\\\n",
    "    B &= \\{1,2,3,4,5\\} \\\\\n",
    "    C &= \\{5,4,3,2,1\\} \\\\\n",
    "    \\newline \\\\\n",
    "    A &\\subset C \\\\\n",
    "    B &\\subseteq C \\\\\n",
    "    C &\\supset A \\text{ Proper Superset} \\\\\n",
    "    C &\\supseteq B \\text{ Superset} \\\\\n",
    "\\end{align*}\n",
    "$$"
   ]
  },
  {
   "cell_type": "markdown",
   "id": "e335c2a0-ff22-4cf5-a903-6db0470a6151",
   "metadata": {},
   "source": [
    "## Power Set"
   ]
  },
  {
   "cell_type": "markdown",
   "id": "fa11126d-54f1-4073-b03b-ed9b1bbbf732",
   "metadata": {},
   "source": [
    "The set consisting of all subsets of a given set $A$, $$\\mathcal{P}(A)$$"
   ]
  },
  {
   "cell_type": "markdown",
   "id": "3aad1375-2f97-4c05-bfee-c4abfc4820dd",
   "metadata": {},
   "source": [
    "### Cardinality"
   ]
  },
  {
   "cell_type": "markdown",
   "id": "b640678b-9be0-43fc-92b6-6ba53e01df10",
   "metadata": {},
   "source": [
    "$$\\lvert\\mathcal{P}(A)\\rvert = 2^{\\lvert A \\rvert}$$"
   ]
  },
  {
   "cell_type": "markdown",
   "id": "263b5930-6671-44da-9597-1e1f07c832c2",
   "metadata": {},
   "source": [
    "## Intersection"
   ]
  },
  {
   "cell_type": "markdown",
   "id": "f3a14018-013e-4d3b-a4ff-e447e0c72847",
   "metadata": {},
   "source": [
    "The intersection of A and B is $$A \\cap B = \\{x \\mid x \\in A \\text{ and } x \\in B\\}$$."
   ]
  },
  {
   "cell_type": "markdown",
   "id": "d7404791-86eb-453a-9213-c7b8e3dd8455",
   "metadata": {
    "tags": []
   },
   "source": [
    "### Disjoint"
   ]
  },
  {
   "cell_type": "markdown",
   "id": "d78ce5e3-d297-4d8e-b74e-3e62753effc9",
   "metadata": {},
   "source": [
    "$$A \\cap B = \\emptyset$$"
   ]
  },
  {
   "cell_type": "markdown",
   "id": "c0416929-b12e-49a1-9518-1f6aee9dfa8e",
   "metadata": {},
   "source": [
    "## Union"
   ]
  },
  {
   "cell_type": "markdown",
   "id": "8de0f42f-6e6b-4ff1-a7e9-61ffdabb001c",
   "metadata": {},
   "source": [
    "The union of A and B is $$A \\cup B = \\{x \\mid x \\in A \\text{ or } x \\in B\\}$$ "
   ]
  },
  {
   "cell_type": "markdown",
   "id": "f58898d5-dc05-4570-9fc1-cf0d337435ef",
   "metadata": {},
   "source": [
    "## Difference"
   ]
  },
  {
   "cell_type": "markdown",
   "id": "21898212-c7e3-4bd5-8e1c-638078e17981",
   "metadata": {},
   "source": [
    "$$A \\backslash B = A - B = \\{x \\mid x \\in A \\text{ and } \\notin B\\}$$"
   ]
  },
  {
   "cell_type": "markdown",
   "id": "4d8e9197-12d2-42b8-8a4f-e1859b9baa0a",
   "metadata": {},
   "source": [
    "## Complement"
   ]
  },
  {
   "cell_type": "markdown",
   "id": "bbc1595e-02fd-4b4d-bd61-adf5c77a3e14",
   "metadata": {},
   "source": [
    "The complement of a set A is $$\\bar{A} = U - A = \\{x \\in U \\text{ and } x \\notin A\\}$$"
   ]
  },
  {
   "cell_type": "markdown",
   "id": "e956c0c9-9fe9-4fb9-aa9a-09acd66a8301",
   "metadata": {},
   "source": [
    "### Relative Complement"
   ]
  },
  {
   "cell_type": "markdown",
   "id": "4d54e58a-8853-4d8a-9724-865d6474a094",
   "metadata": {},
   "source": [
    "Given set A and set B, the relative complement is $$A \\cap \\bar{B} = A -B $$"
   ]
  },
  {
   "cell_type": "markdown",
   "id": "dad0eeb8-45fa-48a5-841b-e3685609f46e",
   "metadata": {},
   "source": [
    "## Equality of Set"
   ]
  },
  {
   "cell_type": "markdown",
   "id": "c4ced7cd-29c2-4b7c-93e4-271e80de817f",
   "metadata": {},
   "source": [
    "$$A=B$$ if and only if $$A \\subseteq B$$ and $$B \\subseteq A$$"
   ]
  },
  {
   "cell_type": "markdown",
   "id": "be483248-608d-4da4-aa46-d1e73f9754ef",
   "metadata": {},
   "source": [
    "# Collection of Sets"
   ]
  },
  {
   "cell_type": "markdown",
   "id": "2ea6b8f5-913c-4a87-a6e0-e1bb5e2b55a4",
   "metadata": {},
   "source": [
    "$$\\bigcup_i^n A = A_i \\cup A_{i+1} \\cup \\ldots{} A_n$$"
   ]
  },
  {
   "cell_type": "markdown",
   "id": "eddf60ce-4728-460b-acba-b91e0fdb27ca",
   "metadata": {},
   "source": [
    "$$\\bigcap_i^n A = A_i \\cap A_{i+1} \\cap \\ldots{} A_n$$"
   ]
  },
  {
   "cell_type": "markdown",
   "id": "971cb912-8f1e-477b-9b89-59d0cf14f18a",
   "metadata": {},
   "source": [
    "## Indexed Collection of Set"
   ]
  },
  {
   "cell_type": "markdown",
   "id": "a17a6438-3e71-4d6f-b6fb-27a519edab1c",
   "metadata": {},
   "source": [
    "Given a nonempty index set $I$, "
   ]
  },
  {
   "cell_type": "markdown",
   "id": "b319de10-723b-4ed3-b4a4-0a95a2500dda",
   "metadata": {},
   "source": [
    "$$\\bigcup_{\\alpha \\in I} A_\\alpha = \\{x: x \\in A_\\alpha \\text{ for some } \\alpha \\in I\\}$$"
   ]
  },
  {
   "cell_type": "markdown",
   "id": "d116b2c7-786f-46b2-8eb8-9c935c0a6a0a",
   "metadata": {},
   "source": [
    "$$\\bigcap_{\\alpha \\in I} A_\\alpha = \\{x: x \\in A_\\alpha \\text{ for all } \\alpha \\in I\\}$$"
   ]
  },
  {
   "cell_type": "markdown",
   "id": "9c6975f1-77ee-4798-ab04-cf763d62125c",
   "metadata": {},
   "source": [
    "## Partition"
   ]
  },
  {
   "cell_type": "markdown",
   "id": "fc4830c5-0b48-4f21-af0e-7709220e8295",
   "metadata": {},
   "source": [
    "A partition of $A$ can be defined as a collection $S$ of subsets of $A$ satisfying three properties:\n",
    "1. $X \\neq \\emptyset$ for every set $X \\in S$;\n",
    "2. for every two sets $X, Y \\in S$, either $X = Y$ or $X \\cap Y = \\emptyset$; (pairwise disjoint)\n",
    "3. $\\bigcup_{X \\in S} X = A$"
   ]
  },
  {
   "cell_type": "markdown",
   "id": "6a31f120-42c9-46f0-b5f7-3b1d5d4736fd",
   "metadata": {},
   "source": [
    "# Cartesian Product"
   ]
  },
  {
   "cell_type": "markdown",
   "id": "af5bbe1a-f93f-4c4b-a133-34e3b7852c58",
   "metadata": {},
   "source": [
    "$$A \\times B = \\{(a,b): a \\in A \\text{ and } b \\in B\\}$$"
   ]
  }
 ],
 "metadata": {
  "kernelspec": {
   "display_name": "Python [conda env:Study]",
   "language": "python",
   "name": "conda-env-Study-py"
  },
  "language_info": {
   "codemirror_mode": {
    "name": "ipython",
    "version": 3
   },
   "file_extension": ".py",
   "mimetype": "text/x-python",
   "name": "python",
   "nbconvert_exporter": "python",
   "pygments_lexer": "ipython3",
   "version": "3.10.4"
  },
  "toc-autonumbering": false
 },
 "nbformat": 4,
 "nbformat_minor": 5
}
