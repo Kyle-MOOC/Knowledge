{
 "cells": [
  {
   "cell_type": "markdown",
   "id": "52abf714-df7c-465f-a48c-ea4e638256fa",
   "metadata": {},
   "source": [
    "# Proposition"
   ]
  },
  {
   "cell_type": "markdown",
   "id": "0e4a18c5-0f22-4fd1-ad92-41b566caa817",
   "metadata": {},
   "source": [
    "A proposition (or statement) is a declarative sentence that is either true (denoted by T) or false (denote by F) but not both. The conventional letters for propositional variables are $p, q, r, s, \\ldots{}$. An atomic propositions are propositions that cannot be expressed in simpler terms.\n",
    "\n",
    "**Historical Fact**: The study of proposition is called propositional calculus or propositional logic. It was first developed systematically by the Greek philosopher Aristotle."
   ]
  },
  {
   "cell_type": "markdown",
   "id": "2a2e13a0-1b09-434b-b0fd-a268107a6bcd",
   "metadata": {},
   "source": [
    "## Compound Proposition"
   ]
  },
  {
   "cell_type": "markdown",
   "id": "32ff2a93-17a8-41c7-9c7e-9709ca7adb45",
   "metadata": {},
   "source": [
    "Compound propositions are formed from existing propositions using logical operators (logical connectives).\n",
    "\n",
    "**Historical Fact**: George Boole discussed the methods to generate new proposition in his book 'The Law of Thought' in 1854."
   ]
  },
  {
   "cell_type": "markdown",
   "id": "dfc76644-96b9-47a6-a6b5-310db193a1a9",
   "metadata": {},
   "source": [
    "### Negation"
   ]
  },
  {
   "cell_type": "markdown",
   "id": "d6c79e4b-3e30-4c30-a335-99e107a648e4",
   "metadata": {},
   "source": [
    "Let $p$ be a proposition. The *negation* of $p$, denoted by $\\neg p$ (also $\\bar{p}$), is the statement\n",
    "\n",
    "\"It is not the case that $p$.\"\n",
    "\n",
    "The operator $\\neg$ is called the negation operator.\n",
    "\n",
    "**Note**: The proposition $\\neg p$ is read 'not p'. The truth value of $\\neg p$ is the opposite of $p$. This notation is not standardised, other common notations are $\\mathord{\\sim}p, -p, p^{\\prime}, !p$."
   ]
  },
  {
   "cell_type": "markdown",
   "id": "b5a5201c-6810-49e1-8323-b8fbc3a88ea0",
   "metadata": {
    "tags": []
   },
   "source": [
    "### Conjunction"
   ]
  },
  {
   "cell_type": "markdown",
   "id": "affe5f37-5ba4-4e36-93fd-b9cc37289d13",
   "metadata": {},
   "source": [
    "Let $p$ and $q$ be propositions. The conjunction of $p$ and $q$, denoted by $p \\land q$, is the proposition $p$ and $q$. The conjunction $p \\land q$ is true when both $p$ and $q$ are true and is false otherwise."
   ]
  },
  {
   "cell_type": "markdown",
   "id": "131de51e-0134-4225-86fa-ee9921878a5d",
   "metadata": {},
   "source": [
    "### Disjunction"
   ]
  },
  {
   "cell_type": "markdown",
   "id": "cb593fa4-b1d7-4b75-9d26-b8a8e55531be",
   "metadata": {},
   "source": [
    "Let $p$ and $q$ be propositions. The disjunction of $p$ and $q$, denoted by $p \\lor q$, is the proposition $p$ or $q$. The conjunction $p \\lor q$ is false when both $p$ and $q$ are false and is true otherwise.\n",
    "\n",
    "**Note**: A disjunction is an inclusive OR."
   ]
  },
  {
   "cell_type": "markdown",
   "id": "863a9e3a-9950-4892-90ec-2588715e840d",
   "metadata": {},
   "source": [
    "### Exclusive OR (XOR)"
   ]
  },
  {
   "cell_type": "markdown",
   "id": "637a0628-8182-4caf-be26-d6afd3f25e47",
   "metadata": {},
   "source": [
    "Let $p$ and $q$ be propositions. The *exclusive or* of $p$ and $q$, denoted by $p \\oplus q$ (p XOR q), is the proposition that is true when exactly one of $p$ and $q$ is true and is false otherwise."
   ]
  },
  {
   "cell_type": "markdown",
   "id": "6b4bf4c8-f8a7-45d7-a775-7be11310f58b",
   "metadata": {},
   "source": [
    "## Truth Table"
   ]
  },
  {
   "cell_type": "markdown",
   "id": "de84e5d6-38a2-46ac-8389-17e82d0d5a95",
   "metadata": {},
   "source": [
    "The value true or false of a statement is called the truth values. It can be summarized using a truth table as followed:\n",
    "\n",
    "|$p$|$\\neg p$|$q$|$p\\land q$|$p\\lor q$|$p \\oplus q$|\n",
    "|-|-|-|-|-|-|\n",
    "|$T$|$F$|$T$|$T$|$T$|$F$|\n",
    "|$T$|$F$|$F$|$F$|$T$|$T$|\n",
    "|$F$|$T$|$T$|$F$|$T$|$T$|\n",
    "|$F$|$T$|$F$|$F$|$F$|$F$|\n",
    "\n",
    "A truth table for a given proposition displays the truth values of all possible combinations of truth values for its component variables."
   ]
  },
  {
   "cell_type": "markdown",
   "id": "a953df98-7696-47b4-83fe-f349a80b0337",
   "metadata": {},
   "source": [
    "## Propositional Form"
   ]
  },
  {
   "cell_type": "markdown",
   "id": "0c2b2271-a920-406f-82ff-4e0d988d6853",
   "metadata": {},
   "source": [
    "A propositional form is an expression made up of propositional variables and logical operators."
   ]
  }
 ],
 "metadata": {
  "kernelspec": {
   "display_name": "Python [conda env:Study]",
   "language": "python",
   "name": "conda-env-Study-py"
  },
  "language_info": {
   "codemirror_mode": {
    "name": "ipython",
    "version": 3
   },
   "file_extension": ".py",
   "mimetype": "text/x-python",
   "name": "python",
   "nbconvert_exporter": "python",
   "pygments_lexer": "ipython3",
   "version": "3.10.4"
  },
  "toc-autonumbering": true
 },
 "nbformat": 4,
 "nbformat_minor": 5
}
