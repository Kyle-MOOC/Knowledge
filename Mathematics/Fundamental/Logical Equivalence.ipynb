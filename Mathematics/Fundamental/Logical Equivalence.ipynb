{
 "cells": [
  {
   "cell_type": "markdown",
   "id": "08e6d0d4-446c-4dcc-9fc3-e95f66d3d624",
   "metadata": {},
   "source": [
    "# Logical Equivalence"
   ]
  },
  {
   "cell_type": "markdown",
   "id": "bc92a6a4-c4df-48f2-8bb8-6fffb3b55e88",
   "metadata": {},
   "source": [
    "Two statement forms are called logically equivalent if, and only if, they have identical truth values for each possible substitution of proposition for their propositional variables. A truth table can be used to show logical equivalent\n",
    "\n",
    "|$p$|$\\neg p$|$\\neg(\\neg p)$\n",
    "|-|-|-|\n",
    "|$T$|$F$|$T$|\n",
    "|$F$|$T$|$F$|\n",
    "\n",
    "It is sometimes called propositional equivalence."
   ]
  },
  {
   "cell_type": "markdown",
   "id": "d005e513-a88e-4c5b-870a-96cad614cb5a",
   "metadata": {},
   "source": [
    "## Tautologies and Contradictions"
   ]
  },
  {
   "cell_type": "markdown",
   "id": "2ce2f31e-1dab-4f20-a323-70c9aee5cd36",
   "metadata": {},
   "source": [
    "A tautology is a proposition that is always true regardless of the truth values of its component proposition. A proposition that is tautology is a tautological proposition.\n",
    "\n",
    "A contradiction is a proposition that is always false regardless of the truth values of its component proposition. A proposition that is tautology is a contradictory proposition."
   ]
  },
  {
   "cell_type": "markdown",
   "id": "b0396078-224f-477a-88b4-a27be364f798",
   "metadata": {
    "tags": []
   },
   "source": [
    "## Logical Equivalences"
   ]
  },
  {
   "cell_type": "markdown",
   "id": "4f91018d-e48b-4f78-8d46-c8f932470926",
   "metadata": {},
   "source": [
    "|Law|$\\land$|$\\lor$|\n",
    "|-|-|-|\n",
    "|Commutative|$p \\land q \\equiv q \\land p$|$p \\lor q \\equiv q \\lor p$|\n",
    "|Associative|$(p \\land q) \\land r \\equiv p \\land (q \\land r)$|$(p \\lor q) \\lor r \\equiv p \\lor (q \\lor r)$\n",
    "|Distributive|$p \\land (q \\lor r) \\equiv (p \\lor q) \\land (p \\lor r)$|$p \\lor (q \\land r) \\equiv (p \\land q) \\lor (p \\land r)$|\n",
    "|Identity|$p \\land t \\equiv p$|$p \\lor c \\equiv p$|\n",
    "|Negation|$p \\land \\neg p \\equiv c$|$p \\lor \\neg p \\equiv t$|\n",
    "|Double negative|$\\neg (\\neg p) \\equiv 1$||\n",
    "|Idempotent|$p \\land p \\equiv p$|$p \\lor p \\equiv p$|\n",
    "|Universal bound|$p \\land c \\equiv c$|$p \\lor t \\equiv t$|\n",
    "|De Morgan's|$\\neg (p\\land q) \\equiv \\neg p \\lor \\neg q$|$\\neg (p\\lor q) \\equiv \\neg p \\land \\neg q$|\n",
    "|Absorption|$p\\land (p\\lor q) \\equiv p$|$p \\lor (p \\land q) \\equiv p$|\n",
    "|t/c Negation|$\\neg t \\equiv c$|$\\neg c \\equiv t$|\n",
    "\n",
    "t: Tautology\n",
    "c: Contradiction"
   ]
  }
 ],
 "metadata": {
  "kernelspec": {
   "display_name": "Python [conda env:Study]",
   "language": "python",
   "name": "conda-env-Study-py"
  },
  "language_info": {
   "codemirror_mode": {
    "name": "ipython",
    "version": 3
   },
   "file_extension": ".py",
   "mimetype": "text/x-python",
   "name": "python",
   "nbconvert_exporter": "python",
   "pygments_lexer": "ipython3",
   "version": "3.10.4"
  }
 },
 "nbformat": 4,
 "nbformat_minor": 5
}
