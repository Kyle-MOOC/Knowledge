{
 "cells": [
  {
   "cell_type": "markdown",
   "id": "1fa08adf-ab42-417c-9d0c-1e70c8aea7af",
   "metadata": {},
   "source": [
    "# Natural Numbers"
   ]
  },
  {
   "cell_type": "markdown",
   "id": "850d563b-b9d8-4976-9f8c-f3f5048ffb73",
   "metadata": {},
   "source": [
    "$$ \\mathbb{N} = \\{1,2,3, \\ldots\\}$$\n",
    "\n",
    "Natural number is also known as positive integer. In some texts, 0 is included in natural number. The symbol $\\ldots{}$ is called an **ellipsis** and mean to continue the pattern."
   ]
  },
  {
   "cell_type": "markdown",
   "id": "8115498a-8a21-4c5c-bc34-d5623228b929",
   "metadata": {},
   "source": [
    "# Whole Number"
   ]
  },
  {
   "cell_type": "markdown",
   "id": "8cae4406-3e1d-40a0-962a-5542297ad34e",
   "metadata": {},
   "source": [
    "$$\\mathbb{W} = \\{0,1,2,3,4, \\ldots{}\\}$$\n",
    "\n",
    "**Historical Fact**: The use of the digit 0 to indicate an empty place in the representation of a number seems essential nowadays. However, many civilisations managed to use place-value representations of numbers for hundreds of years with no symbol for the digit zero. Instead, they distinguised numbers by their context. Evidence from surviving clay tablets shows that the Babylonians used place-value representations of numbers from at least 2100 BC, and used a placed-holder for zero from around 600 BC."
   ]
  },
  {
   "cell_type": "markdown",
   "id": "a49bdd5f-d448-4315-b492-5472523d63fd",
   "metadata": {},
   "source": [
    "# Integers"
   ]
  },
  {
   "cell_type": "markdown",
   "id": "2bbad8dd-60de-4e22-8bb7-7f6e986cd941",
   "metadata": {},
   "source": [
    "$$ \\mathbb{Z} = \\{0,\\pm 1, \\pm 2, \\pm 3, \\ldots\\}$$\n",
    "\n",
    "**Etymology**: The Latin word *integer* consists of the prefix *in*, meaning *not*, attached to the root of *tangere*, meaning *to touch*. So it literally means *untouched*, in the sense of *whole*."
   ]
  },
  {
   "cell_type": "markdown",
   "id": "4a0f4473-15ff-4125-a311-ee5802099bf3",
   "metadata": {},
   "source": [
    "# Rational Numbers"
   ]
  },
  {
   "cell_type": "markdown",
   "id": "e12b76c2-a0ed-47c9-836a-ab04f322a76a",
   "metadata": {},
   "source": [
    "$$\\mathbb{Q} = \\{\\frac{a}{b}|a,b \\in \\mathbb{Z}, b \\ne 0\\}$$"
   ]
  },
  {
   "cell_type": "markdown",
   "id": "f590d937-7cfc-4b87-9292-509b07454375",
   "metadata": {},
   "source": [
    "## Recurring Decimal Expansion"
   ]
  },
  {
   "cell_type": "markdown",
   "id": "21d6e5e3-51d4-489a-8915-3a77f78b50e3",
   "metadata": {},
   "source": [
    "$$\n",
    "\\begin{aligned}\n",
    "\\frac{1}{3} &= 0.333\\ldots \\\\\n",
    "\\frac{1}{3} &= 0.\\overline{333}\n",
    "\\end{aligned}\n",
    "$$\n",
    "A recurring decimal expansion can be written with a line on top of the recurring digits (also known as a vinculum). Sometime it is written with dot on top of the recurring digits as following:\n",
    "$$\n",
    "\\begin{aligned}\n",
    "\\frac{6}{7} &= 0.857142857142 \\\\\n",
    "\\frac{6}{7} &= 0.\\dot{8}5714\\dot{2}\n",
    "\\end{aligned}\n",
    "$$"
   ]
  },
  {
   "cell_type": "markdown",
   "id": "5e2202e0-cc19-4f64-a58e-d53d0bad865a",
   "metadata": {},
   "source": [
    "## Fractional Representation"
   ]
  },
  {
   "cell_type": "markdown",
   "id": "b7ca612f-eb82-4cb5-9050-4b036552c326",
   "metadata": {},
   "source": [
    "All recurring decimal expansion have fractional representation.\n",
    "1. Let $\\alpha$ be a rational number and $n$ the number of repeating digits.\n",
    "2. Find the solution to $(10)^{n}\\alpha - \\alpha$.\n",
    "\n",
    "**Example**\n",
    "$$\n",
    "\\begin{aligned}\n",
    "\\alpha &= 3.\\overline{14}\\\\\n",
    "100\\alpha - \\alpha &= 314.\\overline{14} - 3.\\overline{14}\\\\\n",
    "99\\alpha &= 311\\\\\n",
    "\\alpha &= \\frac{311}{99}\\\\\n",
    "\\end{aligned}\n",
    "$$"
   ]
  },
  {
   "cell_type": "markdown",
   "id": "2fa10c95-6d0c-4584-8329-c413822ca8b0",
   "metadata": {},
   "source": [
    "## Terminating Decimal"
   ]
  },
  {
   "cell_type": "markdown",
   "id": "a098b005-2787-4098-8743-82c531e01455",
   "metadata": {},
   "source": [
    "$$\\frac{1}{8} = 0.125$$"
   ]
  },
  {
   "cell_type": "markdown",
   "id": "d6bd5431-1a62-4af3-9e4c-67f1717a054a",
   "metadata": {},
   "source": [
    "# Irrational Numbers"
   ]
  },
  {
   "cell_type": "markdown",
   "id": "fc35d1c9-1f99-4527-b126-817ea0df727d",
   "metadata": {},
   "source": [
    "$$\\mathbb{P} = \\{x \\mid x \\in \\mathbb{R}, x \\notin \\mathbb{Q}\\}$$\n",
    "\n",
    "A real number that is not rational.\n",
    "\n",
    "**Example**  \n",
    "$$\\sqrt{2}, \\sqrt{3}, \\pi, e \\in \\mathbb{R} \\setminus \\mathbb{Q}$$"
   ]
  },
  {
   "cell_type": "markdown",
   "id": "ba42c396-5279-4ff6-b7a9-2378de0955f2",
   "metadata": {},
   "source": [
    "## The Number $\\pi$"
   ]
  },
  {
   "cell_type": "markdown",
   "id": "7fe56dee-a0fc-41f6-9ab1-6f16cff02013",
   "metadata": {},
   "source": [
    "The number $\\pi$ is defined as $$\\pi = \\frac{\\text{Circumference}}{\\text{Diameter}}$$ of a circle.\n",
    "Although it is a ratio of circumference to diameter, due to the nature of measurement, the circumference is not a rational number. Thus $\\pi$ is not rational.<br> <br>\n",
    "    \n",
    "$\\pi$ can be approximate by $$\\pi = 3.14159\\ldots$$ but it has no repeating decimal since it is not rational number"
   ]
  },
  {
   "cell_type": "markdown",
   "id": "9f9afe4e-c904-4566-9186-3f470440bff5",
   "metadata": {},
   "source": [
    "# Real number"
   ]
  },
  {
   "cell_type": "markdown",
   "id": "7f635bc1-ea46-4628-95e4-cbdef3b85aa8",
   "metadata": {},
   "source": [
    "$$\\mathbb{R} = \\{x|x \\text{ possesses a decimal representation}\\}$$\n",
    "\n",
    "$\\mathbb{R}^{+} = \\text{Positive Real}$  \n",
    "$\\mathbb{R}^{-} = \\text{Negative Real}$  \n",
    "$\\mathbb{R}^{*} = \\text{Real Number without 0}$"
   ]
  },
  {
   "cell_type": "markdown",
   "id": "63f52114-661c-423a-86aa-520e9cb3079f",
   "metadata": {},
   "source": [
    "# Complex Number"
   ]
  },
  {
   "cell_type": "markdown",
   "id": "a95943d8-e582-45aa-96d2-2e6071133be3",
   "metadata": {},
   "source": [
    "$$ \\mathbb{C} = \\{ a+bi \\mid a,b \\in \\mathbb{R}, i = \\sqrt{-1} \\} $$"
   ]
  },
  {
   "cell_type": "markdown",
   "id": "f6cfc45d-9636-4767-99c0-ba1d5fcd7a76",
   "metadata": {},
   "source": [
    "# Fundamental Theorem of Arithmetic"
   ]
  },
  {
   "cell_type": "markdown",
   "id": "63ea2e1e-f658-461e-97cc-e25fb3860b6c",
   "metadata": {},
   "source": [
    "Every integer greater than 1 can be written as a product of prime factors in just one way."
   ]
  }
 ],
 "metadata": {
  "kernelspec": {
   "display_name": "Python [conda env:Study]",
   "language": "python",
   "name": "conda-env-Study-py"
  },
  "language_info": {
   "codemirror_mode": {
    "name": "ipython",
    "version": 3
   },
   "file_extension": ".py",
   "mimetype": "text/x-python",
   "name": "python",
   "nbconvert_exporter": "python",
   "pygments_lexer": "ipython3",
   "version": "3.10.4"
  }
 },
 "nbformat": 4,
 "nbformat_minor": 5
}
