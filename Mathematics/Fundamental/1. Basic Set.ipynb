{
 "cells": [
  {
   "cell_type": "markdown",
   "id": "ba9b0dd7-a35e-41aa-b3f8-b6ea3987a900",
   "metadata": {},
   "source": [
    "# Set"
   ]
  },
  {
   "cell_type": "markdown",
   "id": "d49c63dc-e3f2-4851-b5fc-bcc5095520a2",
   "metadata": {},
   "source": [
    "A set is a well-defined collection of objects which are called the elements of the set. A set is usually defined using a capital letter and the elements are contained in braces such as $A = \\{0,1,2,3\\}$."
   ]
  },
  {
   "cell_type": "markdown",
   "id": "abb15ad6-194a-4384-ab46-4018f00adc9e",
   "metadata": {
    "tags": []
   },
   "source": [
    "## Axiom of Extension"
   ]
  },
  {
   "cell_type": "markdown",
   "id": "e1d54716-ff4d-47e4-8b49-e7e1d2bc6454",
   "metadata": {},
   "source": [
    "A set is determined by its elements regardless of order, **i.e.**, $\\{1,2,3\\} = \\{2,1,3\\}$. "
   ]
  },
  {
   "cell_type": "markdown",
   "id": "9a829e93-7049-45ea-933e-d0b71f586d07",
   "metadata": {},
   "source": [
    "## Elements"
   ]
  },
  {
   "cell_type": "markdown",
   "id": "2861e9e7-c1f9-4192-ab48-2b7e3961f31f",
   "metadata": {},
   "source": [
    "The object that make up a set is called its elements (or members). If $x$ is an element of A, then $$x \\in A$$, otherwise $$x \\not\\in A$$"
   ]
  },
  {
   "cell_type": "markdown",
   "id": "55df3212-0a98-46b6-8854-12d257d2affb",
   "metadata": {},
   "source": [
    "## Set Description"
   ]
  },
  {
   "cell_type": "markdown",
   "id": "a915032e-b70e-43b8-b539-8b762143bf7f",
   "metadata": {},
   "source": [
    "### Verbal Method"
   ]
  },
  {
   "cell_type": "markdown",
   "id": "e940cde6-ee5b-4bed-aca4-2be1aa6083c9",
   "metadata": {},
   "source": [
    "Sentence description. **e.g.** A collection of letters in the word 'mathematics'."
   ]
  },
  {
   "cell_type": "markdown",
   "id": "e84ea633-d7ec-4590-9bff-76dfdfedf2c9",
   "metadata": {},
   "source": [
    "### Roster Method"
   ]
  },
  {
   "cell_type": "markdown",
   "id": "78aba4a9-9c5e-4335-b6d9-fbec454eccf6",
   "metadata": {},
   "source": [
    "Listing of elements in braces $\\{ \\}$. The elements inside a set is not repeated and the order of element is not important (axiom of extension). **e.g.** $S = \\{m,a,t,h,e,i,c,s\\}$"
   ]
  },
  {
   "cell_type": "markdown",
   "id": "9c366946-667f-46ce-a5e7-768d39b476ea",
   "metadata": {},
   "source": [
    "### Set-Builder Method"
   ]
  },
  {
   "cell_type": "markdown",
   "id": "c0e35f1f-67f7-41b2-8c63-3d24d3650106",
   "metadata": {},
   "source": [
    "Combination of verbal and roster method.\n",
    "- $S = \\{x \\mid \\text{description}\\}$ **e.g.** $S = \\{x \\mid x \\text{ is a letter in the word 'mathematics'}\\}$\n",
    "- $S = \\{x : p(x)\\}$ **e.g.** $S = \\{x \\in \\mathbb{R}: \\lvert x \\rvert = 2\\}$\n",
    "- Both $:$ and $\\mid$ are interchangeable, and mean 'such that'. **e.g.** The set of real number such that the absolute value is $2$."
   ]
  }
 ],
 "metadata": {
  "kernelspec": {
   "display_name": "Python [conda env:Study]",
   "language": "python",
   "name": "conda-env-Study-py"
  },
  "language_info": {
   "codemirror_mode": {
    "name": "ipython",
    "version": 3
   },
   "file_extension": ".py",
   "mimetype": "text/x-python",
   "name": "python",
   "nbconvert_exporter": "python",
   "pygments_lexer": "ipython3",
   "version": "3.10.4"
  }
 },
 "nbformat": 4,
 "nbformat_minor": 5
}
