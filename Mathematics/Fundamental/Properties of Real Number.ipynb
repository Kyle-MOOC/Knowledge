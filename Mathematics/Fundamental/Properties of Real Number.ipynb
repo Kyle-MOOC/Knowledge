{
 "cells": [
  {
   "cell_type": "markdown",
   "id": "3a6fa0fb-6e18-4383-abc6-dd1195218dd3",
   "metadata": {},
   "source": [
    "# Properties of Real Number"
   ]
  },
  {
   "cell_type": "markdown",
   "id": "8b0af7dc-73f7-457f-8869-60282666c4a3",
   "metadata": {},
   "source": [
    "## Density Property of $\\mathbb{Q}$ and $\\mathbb{P}$ in $\\mathbb{R}$ "
   ]
  },
  {
   "cell_type": "markdown",
   "id": "7940f550-0fe1-48a8-9091-872b57a90044",
   "metadata": {},
   "source": [
    "Between any two distinct real numbers, there is at least one rational number and one irrational number. It then follows that between any two distinct real numbers there will be infinitely many rational and infinitely many irrational numbers."
   ]
  },
  {
   "cell_type": "markdown",
   "id": "d045bfe8-1a84-4f35-8d76-e98806d207f3",
   "metadata": {},
   "source": [
    "## Law of Trichotomy"
   ]
  },
  {
   "cell_type": "markdown",
   "id": "7cba36bc-6729-495e-9da1-b8f9ab89bdce",
   "metadata": {},
   "source": [
    "If $a$ and $b$ are real numbers then exactly one of the following statements is true:\n",
    "$$ a < b $$\n",
    "$$ a > b $$\n",
    "$$ a = b $$"
   ]
  },
  {
   "cell_type": "markdown",
   "id": "898d82f0-1be6-4cd9-9052-4957fd9f1891",
   "metadata": {},
   "source": [
    "## Properties of Addition"
   ]
  },
  {
   "cell_type": "markdown",
   "id": "52abf313-13a3-49a3-bd67-f69371b22ef9",
   "metadata": {},
   "source": [
    "|Properties||\n",
    "|-|:-|\n",
    "|Closure|$\\text{For } a \\in \\mathbb{R} \\text{ and } b \\in \\mathbb{R}, a+b \\in \\mathbb{R}$|\n",
    "|Commutativity|$\\text{For } a \\in \\mathbb{R} \\text{ and } b \\in \\mathbb{R}, a+b = b+a$|\n",
    "|Associativity|$\\text{For } a \\in \\mathbb{R}, b \\in \\mathbb{R} \\text{ and } c \\in \\mathbb{R}, (a+b) + c = a + (b+c)$|\n",
    "|Identity|$\\text{For } a \\in \\mathbb{R}, \\text{there exists } 0 \\in \\mathbb{R} \\text{ such that } a + 0 = a$|\n",
    "|Inverse|$\\text{For } a \\in \\mathbb{R}, \\text{there exists } -a \\in \\mathbb{R} \\text{ such that } a + (-a) = 0$|\n",
    "|Subtraction|$\\text{For } a \\in \\mathbb{R} \\text{ and } b \\in \\mathbb{R}, a-b = a + (-b)$|"
   ]
  },
  {
   "cell_type": "markdown",
   "id": "0322e990-f68f-4016-9db7-42e85a0b99f8",
   "metadata": {
    "tags": []
   },
   "source": [
    "## Properties of Multiplication"
   ]
  },
  {
   "cell_type": "markdown",
   "id": "a4e7993a-01f6-41b6-ad05-f3bab583592b",
   "metadata": {},
   "source": [
    "|Properties||\n",
    "|-|:-|\n",
    "|Closure|$\\text{For } a \\in \\mathbb{R} \\text{ and } b \\in \\mathbb{R}, ab \\in \\mathbb{R}$|\n",
    "|Commutativity|$\\text{For } a \\in \\mathbb{R} \\text{ and } b \\in \\mathbb{R}, ab = ba$|\n",
    "|Associativity|$\\text{For } a \\in \\mathbb{R}, b \\in \\mathbb{R} \\text{ and } c \\in \\mathbb{R}, (ab)c = a(bc)$|\n",
    "|Identity|$\\text{For } a \\in \\mathbb{R}, \\text{there exists } 1 \\in \\mathbb{R} \\text{ such that } a \\cdot 1 = a$|\n",
    "|Inverse|$\\text{For } a \\in \\mathbb{R} \\text{ and } a \\neq 0, \\text{there exists } \\frac{1}{a} \\in \\mathbb{R} \\text{ such that } a \\cdot \\frac{1}{a} = 1$|\n",
    "|Division|$\\text{For } a \\in \\mathbb{R}, b \\in \\mathbb{R} \\text{ and } b \\neq 0, a\\div b = \\frac{a}{b} = a (\\frac{1}{b})$|\n",
    "|Distributive|$a(b+c) = ab+ac \\text{ and } (a+b)c = ac + bc$|\n",
    "|Factoring|$ab + ac = a(b+c) \\text{ and } ac + bc = (a+b)c$|"
   ]
  },
  {
   "cell_type": "markdown",
   "id": "07bdf79c-29e9-439d-8188-e6de736c4c5d",
   "metadata": {},
   "source": [
    "## Properties of Zeroes"
   ]
  },
  {
   "cell_type": "markdown",
   "id": "54138c25-6d1e-4a9f-9fbc-45b5c666e097",
   "metadata": {},
   "source": [
    "|Properties||\n",
    "|-|-|\n",
    "|Zero Product|$ab = 0 \\Longleftrightarrow{} a = 0 \\text{ or } b = 0$|\n",
    "|Zero Fraction|$a \\neq 0 \\implies \\frac{0}{a} = 0$|\n",
    "\n",
    "**Note**: The fraction $\\frac{a}{0}$ is undefined while $\\frac{0}{0}$ is indeterminate. An undefined form means that it has no solution while indeterminate form has infinite solution."
   ]
  },
  {
   "cell_type": "markdown",
   "id": "7a197a4c-f4f8-4c69-8598-3affd43d957d",
   "metadata": {},
   "source": [
    "## Properties of Fractions"
   ]
  },
  {
   "cell_type": "markdown",
   "id": "5fc57897-2714-4e49-91ee-925102d8ddce",
   "metadata": {},
   "source": [
    "$\\require{mathtools}$\n",
    "\n",
    "|Properties||\n",
    "|-|-|\n",
    "|Identity|$a = \\frac{a}{1} \\text{ and } \\frac{a}{a} = 1$|\n",
    "|Equality|$\\frac{a}{b} = \\frac{c}{d} \\Longleftrightarrow ad = bc$|\n",
    "|Addition and Subtraction|$\\frac{a}{c} \\pm \\frac{b}{c} = \\frac{a\\pm b}{c}$|\n",
    "|Multiplication|$\\frac{a}{b} \\cdot \\frac{c}{d} = \\frac{ac}{bd}$|\n",
    "|Division|$\\frac{a}{b} \\div \\frac{c}{d} = \\frac{a}{b} \\cdot \\frac{d}{c} =\\frac{ad}{bc}$\n",
    "|Reducing|$\\frac{a\\cancel{c}}{b\\cancel{c}} = \\frac{a}{b}$|"
   ]
  },
  {
   "cell_type": "markdown",
   "id": "11bfd43f-1797-4b3b-9c17-fc39bb2c7fc6",
   "metadata": {
    "tags": []
   },
   "source": [
    "## Properties of Negatives"
   ]
  },
  {
   "cell_type": "markdown",
   "id": "2bf5ff46-93e0-4a4f-afee-769e51b30bfe",
   "metadata": {},
   "source": [
    "|Properties||\n",
    "|-|-|\n",
    "|Additive Inverse|$-a=(-1)a \\text{ and } -(-a) = a$|\n",
    "|Product of Negatives|$(-a)(-b) = ab$|\n",
    "|Product|$-ab = -(ab) = (-a)b = a(-b)$|\n",
    "|Fraction|$b \\neq 0 \\implies -\\frac{a}{b} = \\frac{-a}{b} = \\frac{a}{-b} \\text{ and } \\frac{-a}{-b} = \\frac{a}{b}$|\n",
    "|Factoring|$-a-b = -(a+b) \\text{ and } b-a = -(a-b)$|"
   ]
  }
 ],
 "metadata": {
  "kernelspec": {
   "display_name": "Python [conda env:Study]",
   "language": "python",
   "name": "conda-env-Study-py"
  },
  "language_info": {
   "codemirror_mode": {
    "name": "ipython",
    "version": 3
   },
   "file_extension": ".py",
   "mimetype": "text/x-python",
   "name": "python",
   "nbconvert_exporter": "python",
   "pygments_lexer": "ipython3",
   "version": "3.10.4"
  },
  "toc-autonumbering": false
 },
 "nbformat": 4,
 "nbformat_minor": 5
}
