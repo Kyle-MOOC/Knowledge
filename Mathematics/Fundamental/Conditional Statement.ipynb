{
 "cells": [
  {
   "cell_type": "markdown",
   "id": "36bd3090-bab8-49af-ac01-9fe005f88b2c",
   "metadata": {},
   "source": [
    "# Conditional Statement"
   ]
  },
  {
   "cell_type": "markdown",
   "id": "e45ec6ca-85fb-4532-a23f-be2a1593c449",
   "metadata": {},
   "source": [
    "Let $p$ and $q$ be propositions. The conditional statement $p \\implies q$ is the proposition \"If $p$, then $q$.\" (or $p$ implies $q$). The conditional statement $p \\to q$ is false when $p$ is true and $q$ is false, and true otherwise. It is also called implication.\n",
    "\n",
    "$p$ is called the hypothesis (or antecedent/premise) and $q$ is called the conclusion (or consequence).\n",
    "\n",
    "A conditional statement is called vacuosly true or true by default because the statement is true when its hypothesis is false.\n",
    "\n",
    "**Note**: Sometimes, the symbol $\\to$ is used."
   ]
  },
  {
   "cell_type": "markdown",
   "id": "a7e0f3bf-c682-4615-a74f-72f69f56105b",
   "metadata": {},
   "source": [
    "## Contrapositive"
   ]
  },
  {
   "cell_type": "markdown",
   "id": "8f89747f-ef60-447e-9b8f-da605fde7ed6",
   "metadata": {},
   "source": [
    "$$\\neg q \\implies \\neg p$$"
   ]
  },
  {
   "cell_type": "markdown",
   "id": "4fc2b695-d87a-4693-b287-900de63f960e",
   "metadata": {},
   "source": [
    "## Converse"
   ]
  },
  {
   "cell_type": "markdown",
   "id": "18b65a9d-c61b-4e3e-9708-6b7083dd0452",
   "metadata": {},
   "source": [
    "$$q \\implies p$$"
   ]
  },
  {
   "cell_type": "markdown",
   "id": "05a3214c-1b9f-4beb-a946-3ce07c263783",
   "metadata": {},
   "source": [
    "## Inverse"
   ]
  },
  {
   "cell_type": "markdown",
   "id": "d7147939-556f-45be-ad83-1a6da270cd63",
   "metadata": {},
   "source": [
    "$$\\neg p \\implies \\neg q$$"
   ]
  },
  {
   "cell_type": "markdown",
   "id": "ae0188f2-8fac-4324-834a-bd59ce6a3a9e",
   "metadata": {},
   "source": [
    "# Biconditional"
   ]
  },
  {
   "cell_type": "markdown",
   "id": "03348e11-22ce-4206-b32d-29376a820341",
   "metadata": {},
   "source": [
    "Let $p$ and $q$ be propositions. The biconditional statement $p \\Longleftrightarrow q$ is the proposition \"$p$ if and only if $q$.\" (or $p$ iff $q$). The biconditional statement $p \\Longleftrightarrow q$ is true when $p$ and $q$ have the same truth values, and is false otherwise. It is also called bi-implications.\n",
    "\n",
    "**Note**: Sometimes, the symbol $\\longleftrightarrow$ is used."
   ]
  },
  {
   "cell_type": "markdown",
   "id": "18958fc1-876b-44ec-924d-0ed09d5dad9b",
   "metadata": {
    "tags": []
   },
   "source": [
    "# Order of Logical Operators"
   ]
  },
  {
   "cell_type": "markdown",
   "id": "b95c3935-0bcb-4901-ac6f-ffaccacf0f68",
   "metadata": {},
   "source": [
    "1. $\\neg$\n",
    "2. $\\land$\n",
    "3. $\\lor$\n",
    "4. $\\implies$\n",
    "5. $\\Longleftrightarrow$"
   ]
  }
 ],
 "metadata": {
  "kernelspec": {
   "display_name": "Python [conda env:Study]",
   "language": "python",
   "name": "conda-env-Study-py"
  },
  "language_info": {
   "codemirror_mode": {
    "name": "ipython",
    "version": 3
   },
   "file_extension": ".py",
   "mimetype": "text/x-python",
   "name": "python",
   "nbconvert_exporter": "python",
   "pygments_lexer": "ipython3",
   "version": "3.10.4"
  }
 },
 "nbformat": 4,
 "nbformat_minor": 5
}
